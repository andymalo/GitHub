{
 "cells": [
  {
   "cell_type": "code",
   "execution_count": 1,
   "metadata": {
    "collapsed": false
   },
   "outputs": [
    {
     "name": "stdout",
     "output_type": "stream",
     "text": [
      "b'{\\n  \"name\" : \"ZupyOpS\",\\n  \"cluster_name\" : \"elasticsearch\",\\n  \"cluster_uuid\" : \"LAuTOmKCTMuTp8whwpSD0g\",\\n  \"version\" : {\\n    \"number\" : \"5.3.1\",\\n    \"build_hash\" : \"5f9cf58\",\\n    \"build_date\" : \"2017-04-17T15:52:53.846Z\",\\n    \"build_snapshot\" : false,\\n    \"lucene_version\" : \"6.4.2\"\\n  },\\n  \"tagline\" : \"You Know, for Search\"\\n}\\n'\n"
     ]
    }
   ],
   "source": [
    "import requests\n",
    "res=requests.get('http://localhost:9200')\n",
    "print(res.content)"
   ]
  },
  {
   "cell_type": "code",
   "execution_count": 3,
   "metadata": {
    "collapsed": true
   },
   "outputs": [],
   "source": [
    "from elasticsearch import Elasticsearch\n",
    "es = Elasticsearch([{'host':'localhost','port':'9200'}])"
   ]
  },
  {
   "cell_type": "code",
   "execution_count": 7,
   "metadata": {
    "collapsed": false
   },
   "outputs": [
    {
     "name": "stdout",
     "output_type": "stream",
     "text": [
      "b'{\\n  \"name\" : \"ZupyOpS\",\\n  \"cluster_name\" : \"elasticsearch\",\\n  \"cluster_uuid\" : \"LAuTOmKCTMuTp8whwpSD0g\",\\n  \"version\" : {\\n    \"number\" : \"5.3.1\",\\n    \"build_hash\" : \"5f9cf58\",\\n    \"build_date\" : \"2017-04-17T15:52:53.846Z\",\\n    \"build_snapshot\" : false,\\n    \"lucene_version\" : \"6.4.2\"\\n  },\\n  \"tagline\" : \"You Know, for Search\"\\n}\\n'\n"
     ]
    }
   ],
   "source": [
    "#index some test data\n",
    "es.index(index='test-index', doc_type='test', id=1, body={'test': 'test'})\n",
    "res=requests.get('http://localhost:9200')\n",
    "print(res.content)"
   ]
  },
  {
   "cell_type": "code",
   "execution_count": 15,
   "metadata": {
    "collapsed": false
   },
   "outputs": [
    {
     "name": "stdout",
     "output_type": "stream",
     "text": [
      "90\n"
     ]
    }
   ],
   "source": [
    "#let's iterate over swapi people documents and index them\n",
    "import json\n",
    "r = requests.get('http://localhost:9200') \n",
    "i = 18\n",
    "while r.status_code == 200:\n",
    "    r = requests.get('http://swapi.co/api/people/'+ str(i))\n",
    "    es.index(index='sw', doc_type='people', id=i, body=json.loads(r.content))\n",
    "    i=i+1\n",
    " \n",
    "print(i)"
   ]
  },
  {
   "cell_type": "code",
   "execution_count": 12,
   "metadata": {
    "collapsed": false
   },
   "outputs": [
    {
     "data": {
      "text/plain": [
       "{'_id': '2',\n",
       " '_index': 'sw',\n",
       " '_source': {'birth_year': '112BBY',\n",
       "  'created': '2014-12-10T15:10:51.357000Z',\n",
       "  'edited': '2014-12-20T21:17:50.309000Z',\n",
       "  'eye_color': 'yellow',\n",
       "  'films': ['http://swapi.co/api/films/2/',\n",
       "   'http://swapi.co/api/films/5/',\n",
       "   'http://swapi.co/api/films/4/',\n",
       "   'http://swapi.co/api/films/6/',\n",
       "   'http://swapi.co/api/films/3/',\n",
       "   'http://swapi.co/api/films/1/'],\n",
       "  'gender': 'n/a',\n",
       "  'hair_color': 'n/a',\n",
       "  'height': '167',\n",
       "  'homeworld': 'http://swapi.co/api/planets/1/',\n",
       "  'mass': '75',\n",
       "  'name': 'C-3PO',\n",
       "  'skin_color': 'gold',\n",
       "  'species': ['http://swapi.co/api/species/2/'],\n",
       "  'starships': [],\n",
       "  'url': 'http://swapi.co/api/people/2/',\n",
       "  'vehicles': []},\n",
       " '_type': 'people',\n",
       " '_version': 1,\n",
       " 'found': True}"
      ]
     },
     "execution_count": 12,
     "metadata": {},
     "output_type": "execute_result"
    }
   ],
   "source": [
    "es.get(index ='sw',doc_type='people', id=2)"
   ]
  },
  {
   "cell_type": "code",
   "execution_count": 16,
   "metadata": {
    "collapsed": false
   },
   "outputs": [
    {
     "data": {
      "text/plain": [
       "{'_shards': {'failed': 0, 'successful': 5, 'total': 5},\n",
       " 'hits': {'hits': [{'_id': '4',\n",
       "    '_index': 'sw',\n",
       "    '_score': 4.082477,\n",
       "    '_source': {'birth_year': '41.9BBY',\n",
       "     'created': '2014-12-10T15:18:20.704000Z',\n",
       "     'edited': '2014-12-20T21:17:50.313000Z',\n",
       "     'eye_color': 'yellow',\n",
       "     'films': ['http://swapi.co/api/films/2/',\n",
       "      'http://swapi.co/api/films/6/',\n",
       "      'http://swapi.co/api/films/3/',\n",
       "      'http://swapi.co/api/films/1/'],\n",
       "     'gender': 'male',\n",
       "     'hair_color': 'none',\n",
       "     'height': '202',\n",
       "     'homeworld': 'http://swapi.co/api/planets/1/',\n",
       "     'mass': '136',\n",
       "     'name': 'Darth Vader',\n",
       "     'skin_color': 'white',\n",
       "     'species': ['http://swapi.co/api/species/1/'],\n",
       "     'starships': ['http://swapi.co/api/starships/13/'],\n",
       "     'url': 'http://swapi.co/api/people/4/',\n",
       "     'vehicles': []},\n",
       "    '_type': 'people'},\n",
       "   {'_id': '44',\n",
       "    '_index': 'sw',\n",
       "    '_score': 2.0412385,\n",
       "    '_source': {'birth_year': '54BBY',\n",
       "     'created': '2014-12-19T18:00:41.929000Z',\n",
       "     'edited': '2014-12-20T21:17:50.403000Z',\n",
       "     'eye_color': 'yellow',\n",
       "     'films': ['http://swapi.co/api/films/4/'],\n",
       "     'gender': 'male',\n",
       "     'hair_color': 'none',\n",
       "     'height': '175',\n",
       "     'homeworld': 'http://swapi.co/api/planets/36/',\n",
       "     'mass': '80',\n",
       "     'name': 'Darth Maul',\n",
       "     'skin_color': 'red',\n",
       "     'species': ['http://swapi.co/api/species/22/'],\n",
       "     'starships': ['http://swapi.co/api/starships/41/'],\n",
       "     'url': 'http://swapi.co/api/people/44/',\n",
       "     'vehicles': ['http://swapi.co/api/vehicles/42/']},\n",
       "    '_type': 'people'}],\n",
       "  'max_score': 4.082477,\n",
       "  'total': 2},\n",
       " 'timed_out': False,\n",
       " 'took': 3}"
      ]
     },
     "execution_count": 16,
     "metadata": {},
     "output_type": "execute_result"
    }
   ],
   "source": [
    "es.search(index=\"sw\", body={\"query\": {\"match\": {'name':'Darth Vader'}}})"
   ]
  },
  {
   "cell_type": "code",
   "execution_count": 17,
   "metadata": {
    "collapsed": false
   },
   "outputs": [
    {
     "data": {
      "text/plain": [
       "{'_shards': {'failed': 0, 'successful': 5, 'total': 5},\n",
       " 'hits': {'hits': [{'_id': '1',\n",
       "    '_index': 'sw',\n",
       "    '_score': 1.0,\n",
       "    '_source': {'birth_year': '19BBY',\n",
       "     'created': '2014-12-09T13:50:51.644000Z',\n",
       "     'edited': '2014-12-20T21:17:56.891000Z',\n",
       "     'eye_color': 'blue',\n",
       "     'films': ['http://swapi.co/api/films/2/',\n",
       "      'http://swapi.co/api/films/6/',\n",
       "      'http://swapi.co/api/films/3/',\n",
       "      'http://swapi.co/api/films/1/',\n",
       "      'http://swapi.co/api/films/7/'],\n",
       "     'gender': 'male',\n",
       "     'hair_color': 'blond',\n",
       "     'height': '172',\n",
       "     'homeworld': 'http://swapi.co/api/planets/1/',\n",
       "     'mass': '77',\n",
       "     'name': 'Luke Skywalker',\n",
       "     'skin_color': 'fair',\n",
       "     'species': ['http://swapi.co/api/species/1/'],\n",
       "     'starships': ['http://swapi.co/api/starships/12/',\n",
       "      'http://swapi.co/api/starships/22/'],\n",
       "     'url': 'http://swapi.co/api/people/1/',\n",
       "     'vehicles': ['http://swapi.co/api/vehicles/14/',\n",
       "      'http://swapi.co/api/vehicles/30/']},\n",
       "    '_type': 'people'},\n",
       "   {'_id': '64',\n",
       "    '_index': 'sw',\n",
       "    '_score': 1.0,\n",
       "    '_source': {'birth_year': '58BBY',\n",
       "     'created': '2014-12-20T16:45:53.668000Z',\n",
       "     'edited': '2014-12-20T21:17:50.455000Z',\n",
       "     'eye_color': 'blue',\n",
       "     'films': ['http://swapi.co/api/films/5/', 'http://swapi.co/api/films/6/'],\n",
       "     'gender': 'female',\n",
       "     'hair_color': 'black',\n",
       "     'height': '170',\n",
       "     'homeworld': 'http://swapi.co/api/planets/51/',\n",
       "     'mass': '56.2',\n",
       "     'name': 'Luminara Unduli',\n",
       "     'skin_color': 'yellow',\n",
       "     'species': ['http://swapi.co/api/species/29/'],\n",
       "     'starships': [],\n",
       "     'url': 'http://swapi.co/api/people/64/',\n",
       "     'vehicles': []},\n",
       "    '_type': 'people'}],\n",
       "  'max_score': 1.0,\n",
       "  'total': 2},\n",
       " 'timed_out': False,\n",
       " 'took': 3}"
      ]
     },
     "execution_count": 17,
     "metadata": {},
     "output_type": "execute_result"
    }
   ],
   "source": [
    "es.search(index=\"sw\", body={\"query\": {\"prefix\" : { \"name\" : \"lu\" }}})"
   ]
  },
  {
   "cell_type": "code",
   "execution_count": null,
   "metadata": {
    "collapsed": true
   },
   "outputs": [],
   "source": []
  }
 ],
 "metadata": {
  "kernelspec": {
   "display_name": "Python 3",
   "language": "python",
   "name": "python3"
  },
  "language_info": {
   "codemirror_mode": {
    "name": "ipython",
    "version": 3
   },
   "file_extension": ".py",
   "mimetype": "text/x-python",
   "name": "python",
   "nbconvert_exporter": "python",
   "pygments_lexer": "ipython3",
   "version": "3.6.0"
  }
 },
 "nbformat": 4,
 "nbformat_minor": 2
}
